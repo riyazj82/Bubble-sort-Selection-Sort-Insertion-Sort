{
 "cells": [
  {
   "cell_type": "markdown",
   "id": "ced809e9",
   "metadata": {},
   "source": [
    "# DATASTRUCTURES & ALGORITHMS"
   ]
  },
  {
   "cell_type": "code",
   "execution_count": 1,
   "id": "a4f758a8",
   "metadata": {},
   "outputs": [],
   "source": [
    "#BUBBLE SORT"
   ]
  },
  {
   "cell_type": "code",
   "execution_count": 2,
   "id": "5b3d23dd",
   "metadata": {},
   "outputs": [],
   "source": [
    "def bubble_sort(arr):\n",
    "    for i in range(len(arr)-1,0,-1):\n",
    "        isSorted=True\n",
    "        for j in range(i):\n",
    "            if arr[j]>arr[j+1]:\n",
    "                isSorted=False\n",
    "                arr[j],arr[j+1]=arr[j+1],arr[j]\n",
    "        if isSorted:\n",
    "            print(\"Array is sorted\")\n",
    "            break\n",
    "            \n",
    "#Time  complexity-O(N**2)\n",
    "#Swapping-n"
   ]
  },
  {
   "cell_type": "code",
   "execution_count": 3,
   "id": "f6a3ef28",
   "metadata": {},
   "outputs": [
    {
     "name": "stdout",
     "output_type": "stream",
     "text": [
      "Array is sorted\n"
     ]
    }
   ],
   "source": [
    "arr=[2,1,3,5,4]\n",
    "bubble_sort(arr)\n"
   ]
  },
  {
   "cell_type": "code",
   "execution_count": 4,
   "id": "a48c2790",
   "metadata": {},
   "outputs": [
    {
     "name": "stdout",
     "output_type": "stream",
     "text": [
      "Array is sorted\n"
     ]
    }
   ],
   "source": [
    "def isSorted(arr):\n",
    "    isSorted=True\n",
    "    for i in range(len(arr)-1):\n",
    "        \n",
    "        for j in range(i):\n",
    "            if arr[j] > arr[j+1]:\n",
    "                isSorted=False\n",
    "                break\n",
    "    if isSorted:\n",
    "        print('Array is sorted')\n",
    "    else:\n",
    "        print('Not sorted')\n",
    "                \n",
    "            \n",
    "arr=[1,2,3,4]\n",
    "isSorted(arr)"
   ]
  },
  {
   "cell_type": "code",
   "execution_count": 5,
   "id": "d185d6ad",
   "metadata": {},
   "outputs": [],
   "source": [
    "#SELECTION SORT\n"
   ]
  },
  {
   "cell_type": "code",
   "execution_count": null,
   "id": "22776060",
   "metadata": {},
   "outputs": [],
   "source": [
    "def insertion_sort(arr):\n",
    "    for i in range(1,len(arr)):\n",
    "        v=arr[i]\n",
    "        j=i\n",
    "        while(j>=1 and arr[j-1]>v):\n",
    "            arr[j]=arr[j-1]\n",
    "            j-=1\n",
    "        arr[j]=v\n",
    "    print(arr)   \n",
    "\n",
    "#Time  complexity-O(N**2)   \n",
    "#Swapping-n"
   ]
  },
  {
   "cell_type": "code",
   "execution_count": 6,
   "id": "ab395c5f",
   "metadata": {},
   "outputs": [],
   "source": [
    "#Insertion Sort-Helpful when system is already sorted and if a new input is to be inserted"
   ]
  },
  {
   "cell_type": "code",
   "execution_count": 7,
   "id": "ded9bf25",
   "metadata": {},
   "outputs": [
    {
     "name": "stdout",
     "output_type": "stream",
     "text": [
      "[1, 2, 3, 4, 6]\n"
     ]
    }
   ],
   "source": [
    "def insertion_sort(arr):\n",
    "    for i in range(1,len(arr)):\n",
    "        v=arr[i]\n",
    "        j=i\n",
    "        while(j>=1 and arr[j-1]>v):\n",
    "            arr[j]=arr[j-1]\n",
    "            j-=1\n",
    "        arr[j]=v\n",
    "    print(arr)   \n",
    "\n",
    "#Time  complexity-O(N**2)   \n",
    "#Swapping-n**2\n",
    "\n",
    "arr=[4,2,3,6,1]\n",
    "insertion_sort(arr)"
   ]
  }
 ],
 "metadata": {
  "kernelspec": {
   "display_name": "Python 3 (ipykernel)",
   "language": "python",
   "name": "python3"
  },
  "language_info": {
   "codemirror_mode": {
    "name": "ipython",
    "version": 3
   },
   "file_extension": ".py",
   "mimetype": "text/x-python",
   "name": "python",
   "nbconvert_exporter": "python",
   "pygments_lexer": "ipython3",
   "version": "3.9.13"
  }
 },
 "nbformat": 4,
 "nbformat_minor": 5
}
